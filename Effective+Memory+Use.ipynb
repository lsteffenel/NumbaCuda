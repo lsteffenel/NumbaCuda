{
  "nbformat": 4,
  "nbformat_minor": 0,
  "metadata": {
    "kernelspec": {
      "display_name": "Python 3",
      "language": "python",
      "name": "python3"
    },
    "language_info": {
      "codemirror_mode": {
        "name": "ipython",
        "version": 3
      },
      "file_extension": ".py",
      "mimetype": "text/x-python",
      "name": "python",
      "nbconvert_exporter": "python",
      "pygments_lexer": "ipython3",
      "version": "3.6.10"
    },
    "colab": {
      "name": "Effective+Memory+Use.ipynb",
      "provenance": []
    }
  },
  "cells": [
    {
      "cell_type": "markdown",
      "metadata": {
        "id": "wEsqQlKn0MnY"
      },
      "source": [
        "<a href=\"https://www.nvidia.com/dli\"> <img src=\"https://github.com/lsteffenel/NumbaCuda/blob/main/images/DLI%20Header.png?raw=1\" alt=\"Header\" style=\"width: 400px;\"/> </a>"
      ]
    },
    {
      "cell_type": "code",
      "metadata": {
        "id": "8EJk5Jw10OBy"
      },
      "source": [
        "!wget http://urca.lsteffenel.fr/DLI_Python.zip -O DLI_Python.zip\n",
        "!unzip -q DLI_Python.zip"
      ],
      "execution_count": null,
      "outputs": []
    },
    {
      "cell_type": "markdown",
      "metadata": {
        "id": "nVtAcH6Q0Mna"
      },
      "source": [
        "# Effective Use of the Memory Subsystem"
      ]
    },
    {
      "cell_type": "markdown",
      "metadata": {
        "id": "tpyt3gzT0Mnb"
      },
      "source": [
        "Now that you can write correct CUDA kernels, and understand the importance of launching grids that give the GPU sufficient opportunity to hide latency, you are going to learn techniques to effectively utilize GPU memory subsystems. These techniques are widely applicable to a variety of CUDA applications, and some of the most important when it comes time to make your CUDA code go fast.\n",
        "\n",
        "You are going to begin by learning about memory coalescing. To challenge your ability to reason about memory coalescing, and to expose important details relevent to many CUDA applications, you will then learn about 2-dimensional grids and thread blocks. Next you will learn about a very fast, user-controlled, on-demand memory space called shared memory, and will use shared memory to facilitate memory coalescing where it would not have otherwise been possible. Finally, you will learn about shared memory bank conflicts, which can spoil the performance possibilities of using shared memory, and a technique to address them."
      ]
    },
    {
      "cell_type": "markdown",
      "metadata": {
        "id": "D-UeMDSM0Mnc"
      },
      "source": [
        "## Objectives"
      ]
    },
    {
      "cell_type": "markdown",
      "metadata": {
        "id": "N4gk75j60Mnc"
      },
      "source": [
        "By the time you complete this section, you will be able to:\n",
        "* Write CUDA kernels that benefit from coalesced memory access patterns.\n",
        "* Work with multi-dimensional grids and thread blocks.\n",
        "* Use shared memory to coordinate threads within a block.\n",
        "* Use shared memory to facilitate coalesced memory access patterns.\n",
        "* Resolve shared memory bank conflicts."
      ]
    },
    {
      "cell_type": "markdown",
      "metadata": {
        "id": "J3GIL0le0Mnd"
      },
      "source": [
        "## The Problem: Uncoalesced Memory Access Hurts Performance"
      ]
    },
    {
      "cell_type": "markdown",
      "metadata": {
        "id": "loksj-jY0Mnd"
      },
      "source": [
        "Before you learn the details about what **coalesced memory access** is, run the following cells to observe the performance implications for a seemingly trivial change to the data access pattern within a kernel."
      ]
    },
    {
      "cell_type": "markdown",
      "metadata": {
        "id": "--TayTTy0Mnd"
      },
      "source": [
        "### Imports"
      ]
    },
    {
      "cell_type": "code",
      "metadata": {
        "collapsed": true,
        "id": "rMOxcJrS0Mne"
      },
      "source": [
        "import numpy as np\n",
        "from numba import cuda"
      ],
      "execution_count": null,
      "outputs": []
    },
    {
      "cell_type": "markdown",
      "metadata": {
        "id": "DchcEDY10Mng"
      },
      "source": [
        "### Data Creation"
      ]
    },
    {
      "cell_type": "markdown",
      "metadata": {
        "id": "LbUfmnzj0Mng"
      },
      "source": [
        "In this cell we define `n` and create a grid with threads equal to `n`. We also create an output vector with length `n`. For the inputs we create vectors of size `stride * n` for reasons that will be made clear below:"
      ]
    },
    {
      "cell_type": "code",
      "metadata": {
        "collapsed": true,
        "id": "sSIYp-Rl0Mnh"
      },
      "source": [
        "n = 1024*1024 # 1M\n",
        "\n",
        "threads_per_block = 1024\n",
        "blocks = int(n / threads_per_block)\n",
        "\n",
        "stride = 16\n",
        "\n",
        "# Input Vectors of length stride * n\n",
        "a = np.ones(stride * n).astype(np.float32)\n",
        "b = a.copy().astype(np.float32)\n",
        "\n",
        "# Output Vector\n",
        "out = np.zeros(n).astype(np.float32)\n",
        "\n",
        "d_a = cuda.to_device(a)\n",
        "d_b = cuda.to_device(b)\n",
        "d_out = cuda.to_device(out)"
      ],
      "execution_count": null,
      "outputs": []
    },
    {
      "cell_type": "markdown",
      "metadata": {
        "id": "FuktrimW0Mnh"
      },
      "source": [
        "### Kernel Definition"
      ]
    },
    {
      "cell_type": "markdown",
      "metadata": {
        "id": "P0JmJ9l60Mnh"
      },
      "source": [
        "In `add_experiment`, every thread in the grid will add an item in `a`, and an item in `b` and write the result to `out`. The kernel has been written such that we can pass a `coalesced` value of either `True` or `False` to affect how it indexes into the `a` and `b` vectors. You will see the performance comparison of the two modes below."
      ]
    },
    {
      "cell_type": "code",
      "metadata": {
        "collapsed": true,
        "id": "J1pNj0RP0Mni"
      },
      "source": [
        "@cuda.jit\n",
        "def add_experiment(a, b, out, stride, coalesced):\n",
        "    i = cuda.grid(1)\n",
        "    # The above line is equivalent to\n",
        "    # i = cuda.blockIdx.x * cuda.blockDim.x + cuda.threadIdx.x\n",
        "    if coalesced == True:\n",
        "        out[i] = a[i] + b[i]\n",
        "    else:\n",
        "        out[i] = a[stride*i] + b[stride*i]"
      ],
      "execution_count": null,
      "outputs": []
    },
    {
      "cell_type": "markdown",
      "metadata": {
        "id": "7Tov38eY0Mni"
      },
      "source": [
        "### Launch Kernel Using Coalesced Access"
      ]
    },
    {
      "cell_type": "markdown",
      "metadata": {
        "id": "9EzN1lvF0Mnj"
      },
      "source": [
        "Here we pass `True` as the `coalesced` value, and observe the performance of the kernel over several runs:"
      ]
    },
    {
      "cell_type": "code",
      "metadata": {
        "collapsed": true,
        "scrolled": true,
        "id": "qP_h6zzm0Mnj"
      },
      "source": [
        "%timeit add_experiment[blocks, threads_per_block](d_a, d_b, d_out, stride, True); cuda.synchronize"
      ],
      "execution_count": null,
      "outputs": []
    },
    {
      "cell_type": "markdown",
      "metadata": {
        "id": "94KnxXDH0Mnj"
      },
      "source": [
        "Here we make sure the kernel ran as expected:"
      ]
    },
    {
      "cell_type": "code",
      "metadata": {
        "collapsed": true,
        "id": "E7ilWl6D0Mnk"
      },
      "source": [
        "result = d_out.copy_to_host()\n",
        "truth = a[:n] + b[:n]"
      ],
      "execution_count": null,
      "outputs": []
    },
    {
      "cell_type": "code",
      "metadata": {
        "collapsed": true,
        "scrolled": true,
        "id": "9U02BdKP0Mnk"
      },
      "source": [
        "np.array_equal(result, truth)"
      ],
      "execution_count": null,
      "outputs": []
    },
    {
      "cell_type": "markdown",
      "metadata": {
        "id": "OkMjgEWq0Mnk"
      },
      "source": [
        "### Launch Kernel Using Uncoalesced Access"
      ]
    },
    {
      "cell_type": "markdown",
      "metadata": {
        "id": "gYiuF8ZR0Mnk"
      },
      "source": [
        "In this cell we pass `False`, to observe the perfomance of the uncoalesced data access pattern for `add_experiment`:"
      ]
    },
    {
      "cell_type": "code",
      "metadata": {
        "collapsed": true,
        "id": "HY9oGSDt0Mnl"
      },
      "source": [
        "%timeit add_experiment[blocks, threads_per_block](d_a, d_b, d_out, stride, False); cuda.synchronize"
      ],
      "execution_count": null,
      "outputs": []
    },
    {
      "cell_type": "markdown",
      "metadata": {
        "id": "-VodDON60Mnl"
      },
      "source": [
        "Here we make sure the kernel ran as expected:"
      ]
    },
    {
      "cell_type": "code",
      "metadata": {
        "collapsed": true,
        "id": "e4yAsZOD0Mnl"
      },
      "source": [
        "result = d_out.copy_to_host()\n",
        "truth = a[::stride] + b[::stride]"
      ],
      "execution_count": null,
      "outputs": []
    },
    {
      "cell_type": "code",
      "metadata": {
        "collapsed": true,
        "id": "UgxF3vkt0Mnl"
      },
      "source": [
        "np.array_equal(result, truth)"
      ],
      "execution_count": null,
      "outputs": []
    },
    {
      "cell_type": "markdown",
      "metadata": {
        "id": "e6K4dg590Mnl"
      },
      "source": [
        "### Results"
      ]
    },
    {
      "cell_type": "markdown",
      "metadata": {
        "id": "DVKtxTET0Mnm"
      },
      "source": [
        "The performance of the uncoalesced data access pattern was far worse. Now you will learn why, and how to think about data access patterns in your kernels to obtain high performing kernels."
      ]
    },
    {
      "cell_type": "markdown",
      "metadata": {
        "id": "0Y7yB1vg0Mnm"
      },
      "source": [
        "## Presentation: Global Memory Coalescing"
      ]
    },
    {
      "cell_type": "markdown",
      "metadata": {
        "id": "tV0LZIyR0Mnm"
      },
      "source": [
        "Execute the following cell to load the slides, then click on \"Start Slide Show\" to make them full screen."
      ]
    },
    {
      "cell_type": "code",
      "metadata": {
        "scrolled": true,
        "id": "7PYWV1wY0Mnm"
      },
      "source": [
        "from IPython.display import IFrame\n",
        "IFrame('https://view.officeapps.live.com/op/view.aspx?src=https://developer.download.nvidia.com/training/courses/C-AC-02-V1/coalescing-v3.pptx', 800, 450)"
      ],
      "execution_count": null,
      "outputs": []
    },
    {
      "cell_type": "markdown",
      "metadata": {
        "id": "8dehw5Dz0Mnm"
      },
      "source": [
        "> _**Footnote**: for additional details about global memory segment size across a variety of devices, and with regards to caching, see [The CUDA Best Practices Guide](https://docs.nvidia.com/cuda/cuda-c-best-practices-guide/index.html#coalesced-access-to-global-memory)._"
      ]
    },
    {
      "cell_type": "markdown",
      "metadata": {
        "id": "sEVtOBbR0Mnm"
      },
      "source": [
        "## Exercise: Column and Row Sums"
      ]
    },
    {
      "cell_type": "markdown",
      "metadata": {
        "id": "QBhLKf6u0Mnn"
      },
      "source": [
        "For this exercise you will be asked to write a column sums kernel that uses fully coalesced memory access patterns. To begin you will observe the performance of a row sums kernel that makes uncoalesced memory accesses."
      ]
    },
    {
      "cell_type": "markdown",
      "metadata": {
        "id": "Oa9jRAJI0Mnn"
      },
      "source": [
        "### Row Sums"
      ]
    },
    {
      "cell_type": "markdown",
      "metadata": {
        "id": "m-bKCcyD0Mnn"
      },
      "source": [
        "**Imports**"
      ]
    },
    {
      "cell_type": "code",
      "metadata": {
        "collapsed": true,
        "id": "yIVrXcGn0Mnn"
      },
      "source": [
        "import numpy as np\n",
        "from numba import cuda"
      ],
      "execution_count": null,
      "outputs": []
    },
    {
      "cell_type": "markdown",
      "metadata": {
        "id": "UDlkLI2p0Mnn"
      },
      "source": [
        "**Data Creation**"
      ]
    },
    {
      "cell_type": "markdown",
      "metadata": {
        "id": "IQL4dpWq0Mnn"
      },
      "source": [
        "In this cell we create an input matrix, as well as a vector for storing the solution, and transfer each of them to the device. We also define the grid and block dimensions to be used when we launch the kernel below. We set an arbitrary row of data to some arbitrary value to facilitate checking for correctness below."
      ]
    },
    {
      "cell_type": "code",
      "metadata": {
        "collapsed": true,
        "id": "Sou7fNbf0Mno"
      },
      "source": [
        "n = 16384 # matrix side size\n",
        "threads_per_block = 256\n",
        "blocks = int(n / threads_per_block)\n",
        "\n",
        "# Input Matrix\n",
        "a = np.ones(n*n).reshape(n, n).astype(np.float32)\n",
        "# Here we set an arbitrary row to an arbitrary value to facilitate a check for correctness below.\n",
        "a[3] = 9\n",
        "\n",
        "# Output vector\n",
        "sums = np.zeros(n).astype(np.float32)\n",
        "\n",
        "d_a = cuda.to_device(a)\n",
        "d_sums = cuda.to_device(sums)"
      ],
      "execution_count": null,
      "outputs": []
    },
    {
      "cell_type": "markdown",
      "metadata": {
        "id": "wQYPTiQT0Mno"
      },
      "source": [
        "** Kernel Definition**"
      ]
    },
    {
      "cell_type": "markdown",
      "metadata": {
        "id": "xibILyND0Mno"
      },
      "source": [
        "`row_sums` will use each thread to iterate over a row of data, summing it, and then store its row sum in `sums`."
      ]
    },
    {
      "cell_type": "code",
      "metadata": {
        "collapsed": true,
        "id": "67woR5pO0Mno"
      },
      "source": [
        "@cuda.jit\n",
        "def row_sums(a, sums, n):\n",
        "    idx = cuda.grid(1)\n",
        "    sum = 0.0\n",
        "    \n",
        "    for i in range(n):\n",
        "        # Each thread will sum a row of `a`\n",
        "        sum += a[idx][i]\n",
        "        \n",
        "    sums[idx] = sum"
      ],
      "execution_count": null,
      "outputs": []
    },
    {
      "cell_type": "markdown",
      "metadata": {
        "id": "Ee57AO4_0Mno"
      },
      "source": [
        "**Row Sums Performance**"
      ]
    },
    {
      "cell_type": "code",
      "metadata": {
        "collapsed": true,
        "id": "TZS_9bfZ0Mno"
      },
      "source": [
        "%timeit row_sums[blocks, threads_per_block](d_a, d_sums, n); cuda.synchronize()"
      ],
      "execution_count": null,
      "outputs": []
    },
    {
      "cell_type": "markdown",
      "metadata": {
        "id": "dzLicTRw0Mnp"
      },
      "source": [
        "**Check for Correctness**"
      ]
    },
    {
      "cell_type": "code",
      "metadata": {
        "collapsed": true,
        "id": "rUsKLQMi0Mnp"
      },
      "source": [
        "result = d_sums.copy_to_host()\n",
        "truth = a.sum(axis=1)"
      ],
      "execution_count": null,
      "outputs": []
    },
    {
      "cell_type": "code",
      "metadata": {
        "collapsed": true,
        "id": "cajPu6xc0Mnp"
      },
      "source": [
        "np.array_equal(truth, result)"
      ],
      "execution_count": null,
      "outputs": []
    },
    {
      "cell_type": "markdown",
      "metadata": {
        "id": "8ofbySFG0Mnp"
      },
      "source": [
        "### Column Sums"
      ]
    },
    {
      "cell_type": "markdown",
      "metadata": {
        "id": "OckAKRIG0Mnp"
      },
      "source": [
        "**Imports**"
      ]
    },
    {
      "cell_type": "code",
      "metadata": {
        "collapsed": true,
        "id": "HohrB1RC0Mnp"
      },
      "source": [
        "import numpy as np\n",
        "from numba import cuda"
      ],
      "execution_count": null,
      "outputs": []
    },
    {
      "cell_type": "markdown",
      "metadata": {
        "id": "WJpUHYgy0Mnp"
      },
      "source": [
        "**Data Creation**"
      ]
    },
    {
      "cell_type": "markdown",
      "metadata": {
        "id": "6eNsBt1w0Mnq"
      },
      "source": [
        "In this cell we create an input matrix, as well as a vector for storing the solution, and transfer each of them to the device. We also define the grid and block dimensions to be used when we launch the kernel below. We set an arbitrary column of data to some arbitrary value to facilitate checking for correctness below."
      ]
    },
    {
      "cell_type": "code",
      "metadata": {
        "collapsed": true,
        "id": "cemu8-A-0Mnq"
      },
      "source": [
        "n = 16384 # matrix side size\n",
        "threads_per_block = 256\n",
        "blocks = int(n / threads_per_block)\n",
        "\n",
        "a = np.ones(n*n).reshape(n, n).astype(np.float32)\n",
        "# Here we set an arbitrary column to an arbitrary value to facilitate a check for correctness below.\n",
        "a[:, 3] = 9\n",
        "sums = np.zeros(n).astype(np.float32)\n",
        "\n",
        "d_a = cuda.to_device(a)\n",
        "d_sums = cuda.to_device(sums)"
      ],
      "execution_count": null,
      "outputs": []
    },
    {
      "cell_type": "markdown",
      "metadata": {
        "id": "6vQMYSju0Mnq"
      },
      "source": [
        "** Kernel Definition**"
      ]
    },
    {
      "cell_type": "markdown",
      "metadata": {
        "id": "dXuf1JVr0Mnq"
      },
      "source": [
        "`col_sums` will use each thread to iterate over a column of data, summing it, and then store its column sum in `sums`. Complete the kernel definition to accomplish this. If you get stuck, feel free to refer to [the solution](section3/solutions/col_sums_solution.py)."
      ]
    },
    {
      "cell_type": "code",
      "metadata": {
        "collapsed": true,
        "id": "vSBaE_qy0Mnq"
      },
      "source": [
        "@cuda.jit\n",
        "def col_sums(a, sums, ds):\n",
        "    # TODO: Write this kernel to store the sum of each column in matrix `a` to the `sums` vector.\n",
        "    pass"
      ],
      "execution_count": null,
      "outputs": []
    },
    {
      "cell_type": "markdown",
      "metadata": {
        "id": "i15Fke5q0Mnq"
      },
      "source": [
        "**Check Performance**"
      ]
    },
    {
      "cell_type": "markdown",
      "metadata": {
        "id": "NQgYMZx30Mnr"
      },
      "source": [
        "Assuming you have written `col_sums` to use coalesced access patterns, you should see a significant (almost 2x) speed up compared to the uncoalesced `row_sums` you ran above:"
      ]
    },
    {
      "cell_type": "code",
      "metadata": {
        "collapsed": true,
        "scrolled": true,
        "id": "f35hHNfm0Mnr"
      },
      "source": [
        "%timeit col_sums[blocks, threads_per_block](d_a, d_sums, n); cuda.synchronize()"
      ],
      "execution_count": null,
      "outputs": []
    },
    {
      "cell_type": "markdown",
      "metadata": {
        "id": "RfgNd_IL0Mnr"
      },
      "source": [
        "**Check Correctness**"
      ]
    },
    {
      "cell_type": "markdown",
      "metadata": {
        "id": "IIYJS3FY0Mnr"
      },
      "source": [
        "Confirm your kernel is working as expected."
      ]
    },
    {
      "cell_type": "code",
      "metadata": {
        "collapsed": true,
        "id": "y9qXj5Kl0Mnr"
      },
      "source": [
        "result = d_sums.copy_to_host()\n",
        "truth = a.sum(axis=0)"
      ],
      "execution_count": null,
      "outputs": []
    },
    {
      "cell_type": "code",
      "metadata": {
        "collapsed": true,
        "scrolled": true,
        "id": "7ytHoxap0Mnr"
      },
      "source": [
        "np.array_equal(truth, result)"
      ],
      "execution_count": null,
      "outputs": []
    },
    {
      "cell_type": "markdown",
      "metadata": {
        "id": "cY-RQRW10Mnr"
      },
      "source": [
        "## 2 and 3 Dimensional Blocks and Grids"
      ]
    },
    {
      "cell_type": "markdown",
      "metadata": {
        "id": "j9bCiskf0Mns"
      },
      "source": [
        "Both grids and blocks can be configured to contain a 2 or 3 dimensional collection of blocks or threads, respectively. This is done mostly as a matter of convenience for programmers who often work with 2 or 3 dimensional datasets. Here is a very trivial example to highlight the syntax. You may need to read *both* the kernel definition and its launch before the concept makes sense."
      ]
    },
    {
      "cell_type": "code",
      "metadata": {
        "collapsed": true,
        "id": "MoYug8R90Mns"
      },
      "source": [
        "import numpy as np\n",
        "from numba import cuda"
      ],
      "execution_count": null,
      "outputs": []
    },
    {
      "cell_type": "code",
      "metadata": {
        "collapsed": true,
        "id": "rH9lgSHA0Mns"
      },
      "source": [
        "A = np.zeros((4,4)) # A 4x4 Matrix of 0's\n",
        "d_A = cuda.to_device(A)\n",
        "\n",
        "# Here we create a 2D grid with 4 blocks in a 2x2 structure, each with 4 threads in a 2x2 structure\n",
        "# by using a Python tuple to signify grid and block dimensions.\n",
        "blocks = (2, 2)\n",
        "threads_per_block = (2, 2)"
      ],
      "execution_count": null,
      "outputs": []
    },
    {
      "cell_type": "markdown",
      "metadata": {
        "id": "W4kDlvZo0Mns"
      },
      "source": [
        "This kernel will take an input matrix of 0s and write to each of its elements, its (x,y) coordinates within the grid in the format of `X.Y`:"
      ]
    },
    {
      "cell_type": "code",
      "metadata": {
        "collapsed": true,
        "id": "IxghwLch0Mns"
      },
      "source": [
        "@cuda.jit\n",
        "def get_2D_indices(A):\n",
        "    # By passing `2`, we get the thread's unique x and y coordinates in the 2D grid\n",
        "    x, y = cuda.grid(2)\n",
        "    # The above is equivalent to the following 2 lines of code:\n",
        "    # x = cuda.blockIdx.x * cuda.blockDim.x + cuda.threadIdx.x\n",
        "    # y = cuda.blockIdx.y * cuda.blockDim.y + cuda.threadIdx.y\n",
        "    \n",
        "    # Write the x index followed by a decimal and the y index.\n",
        "    A[x][y] = x + y / 10"
      ],
      "execution_count": null,
      "outputs": []
    },
    {
      "cell_type": "code",
      "metadata": {
        "collapsed": true,
        "id": "RZtWAc4c0Mns"
      },
      "source": [
        "get_2D_indices[blocks, threads_per_block](d_A)"
      ],
      "execution_count": null,
      "outputs": []
    },
    {
      "cell_type": "code",
      "metadata": {
        "collapsed": true,
        "id": "3Dytd6qd0Mnt"
      },
      "source": [
        "result = d_A.copy_to_host()\n",
        "result"
      ],
      "execution_count": null,
      "outputs": []
    },
    {
      "cell_type": "markdown",
      "metadata": {
        "id": "vNPnk2YL0Mnt"
      },
      "source": [
        "## Exercise: Coalesced 2-Dimensional Matrix Add"
      ]
    },
    {
      "cell_type": "markdown",
      "metadata": {
        "id": "UytTSf790Mnt"
      },
      "source": [
        "### Imports"
      ]
    },
    {
      "cell_type": "code",
      "metadata": {
        "collapsed": true,
        "id": "SatpVW8U0Mnt"
      },
      "source": [
        "import numpy as np\n",
        "from numba import cuda"
      ],
      "execution_count": 2,
      "outputs": []
    },
    {
      "cell_type": "markdown",
      "metadata": {
        "id": "8CcT0xG90Mnt"
      },
      "source": [
        "### Data Creation"
      ]
    },
    {
      "cell_type": "markdown",
      "metadata": {
        "id": "fVciXU660Mnt"
      },
      "source": [
        "In this cell we define 2048x2048 elmement input matrices `a` and `b`, as well as a 2048x2048 0-initialized output matrix. We copy these matrices to the device.\n",
        "\n",
        "We also define the 2-dimensional block and grid dimensions to be used below. Note that we are creating a grid with the same number of total threads as there are input and output elements, such that each thread in the grid will calculate the sum for a single element in the output matrix."
      ]
    },
    {
      "cell_type": "code",
      "metadata": {
        "collapsed": true,
        "id": "q_TLDr1Z0Mnu",
        "outputId": "67448abb-2c1e-4549-bddb-fb61f55535e2",
        "colab": {
          "base_uri": "https://localhost:8080/",
          "height": 579
        }
      },
      "source": [
        "n = 2048*2048 # 4M\n",
        "\n",
        "# 2D blocks\n",
        "threads_per_block = (32, 32)\n",
        "# 2D grid\n",
        "blocks = (64, 64)\n",
        "\n",
        "# 2048x2048 input matrices\n",
        "a = np.arange(n).reshape(2048,2048).astype(np.float32)\n",
        "b = a.copy().astype(np.float32)\n",
        "\n",
        "# 2048x2048 0-initialized output matrix\n",
        "out = np.zeros_like(a).astype(np.float32)\n",
        "\n",
        "d_a = cuda.to_device(a)\n",
        "d_b = cuda.to_device(b)\n",
        "d_out = cuda.to_device(out)"
      ],
      "execution_count": 3,
      "outputs": [
        {
          "output_type": "error",
          "ename": "CudaSupportError",
          "evalue": "ignored",
          "traceback": [
            "\u001b[0;31m---------------------------------------------------------------------------\u001b[0m",
            "\u001b[0;31mCudaAPIError\u001b[0m                              Traceback (most recent call last)",
            "\u001b[0;32m/usr/local/lib/python3.7/dist-packages/numba/cuda/cudadrv/driver.py\u001b[0m in \u001b[0;36minitialize\u001b[0;34m(self)\u001b[0m\n\u001b[1;32m    238\u001b[0m             \u001b[0m_logger\u001b[0m\u001b[0;34m.\u001b[0m\u001b[0minfo\u001b[0m\u001b[0;34m(\u001b[0m\u001b[0;34m'init'\u001b[0m\u001b[0;34m)\u001b[0m\u001b[0;34m\u001b[0m\u001b[0;34m\u001b[0m\u001b[0m\n\u001b[0;32m--> 239\u001b[0;31m             \u001b[0mself\u001b[0m\u001b[0;34m.\u001b[0m\u001b[0mcuInit\u001b[0m\u001b[0;34m(\u001b[0m\u001b[0;36m0\u001b[0m\u001b[0;34m)\u001b[0m\u001b[0;34m\u001b[0m\u001b[0;34m\u001b[0m\u001b[0m\n\u001b[0m\u001b[1;32m    240\u001b[0m         \u001b[0;32mexcept\u001b[0m \u001b[0mCudaAPIError\u001b[0m \u001b[0;32mas\u001b[0m \u001b[0me\u001b[0m\u001b[0;34m:\u001b[0m\u001b[0;34m\u001b[0m\u001b[0;34m\u001b[0m\u001b[0m\n",
            "\u001b[0;32m/usr/local/lib/python3.7/dist-packages/numba/cuda/cudadrv/driver.py\u001b[0m in \u001b[0;36msafe_cuda_api_call\u001b[0;34m(*args)\u001b[0m\n\u001b[1;32m    301\u001b[0m             \u001b[0mretcode\u001b[0m \u001b[0;34m=\u001b[0m \u001b[0mlibfn\u001b[0m\u001b[0;34m(\u001b[0m\u001b[0;34m*\u001b[0m\u001b[0margs\u001b[0m\u001b[0;34m)\u001b[0m\u001b[0;34m\u001b[0m\u001b[0;34m\u001b[0m\u001b[0m\n\u001b[0;32m--> 302\u001b[0;31m             \u001b[0mself\u001b[0m\u001b[0;34m.\u001b[0m\u001b[0m_check_error\u001b[0m\u001b[0;34m(\u001b[0m\u001b[0mfname\u001b[0m\u001b[0;34m,\u001b[0m \u001b[0mretcode\u001b[0m\u001b[0;34m)\u001b[0m\u001b[0;34m\u001b[0m\u001b[0;34m\u001b[0m\u001b[0m\n\u001b[0m\u001b[1;32m    303\u001b[0m         \u001b[0;32mreturn\u001b[0m \u001b[0msafe_cuda_api_call\u001b[0m\u001b[0;34m\u001b[0m\u001b[0;34m\u001b[0m\u001b[0m\n",
            "\u001b[0;32m/usr/local/lib/python3.7/dist-packages/numba/cuda/cudadrv/driver.py\u001b[0m in \u001b[0;36m_check_error\u001b[0;34m(self, fname, retcode)\u001b[0m\n\u001b[1;32m    336\u001b[0m                     \u001b[0;32mraise\u001b[0m \u001b[0mCudaDriverError\u001b[0m\u001b[0;34m(\u001b[0m\u001b[0;34m\"CUDA initialized before forking\"\u001b[0m\u001b[0;34m)\u001b[0m\u001b[0;34m\u001b[0m\u001b[0;34m\u001b[0m\u001b[0m\n\u001b[0;32m--> 337\u001b[0;31m             \u001b[0;32mraise\u001b[0m \u001b[0mCudaAPIError\u001b[0m\u001b[0;34m(\u001b[0m\u001b[0mretcode\u001b[0m\u001b[0;34m,\u001b[0m \u001b[0mmsg\u001b[0m\u001b[0;34m)\u001b[0m\u001b[0;34m\u001b[0m\u001b[0;34m\u001b[0m\u001b[0m\n\u001b[0m\u001b[1;32m    338\u001b[0m \u001b[0;34m\u001b[0m\u001b[0m\n",
            "\u001b[0;31mCudaAPIError\u001b[0m: [100] Call to cuInit results in CUDA_ERROR_NO_DEVICE",
            "\nDuring handling of the above exception, another exception occurred:\n",
            "\u001b[0;31mCudaSupportError\u001b[0m                          Traceback (most recent call last)",
            "\u001b[0;32m<ipython-input-3-60612396476c>\u001b[0m in \u001b[0;36m<module>\u001b[0;34m()\u001b[0m\n\u001b[1;32m     13\u001b[0m \u001b[0mout\u001b[0m \u001b[0;34m=\u001b[0m \u001b[0mnp\u001b[0m\u001b[0;34m.\u001b[0m\u001b[0mzeros_like\u001b[0m\u001b[0;34m(\u001b[0m\u001b[0ma\u001b[0m\u001b[0;34m)\u001b[0m\u001b[0;34m.\u001b[0m\u001b[0mastype\u001b[0m\u001b[0;34m(\u001b[0m\u001b[0mnp\u001b[0m\u001b[0;34m.\u001b[0m\u001b[0mfloat32\u001b[0m\u001b[0;34m)\u001b[0m\u001b[0;34m\u001b[0m\u001b[0;34m\u001b[0m\u001b[0m\n\u001b[1;32m     14\u001b[0m \u001b[0;34m\u001b[0m\u001b[0m\n\u001b[0;32m---> 15\u001b[0;31m \u001b[0md_a\u001b[0m \u001b[0;34m=\u001b[0m \u001b[0mcuda\u001b[0m\u001b[0;34m.\u001b[0m\u001b[0mto_device\u001b[0m\u001b[0;34m(\u001b[0m\u001b[0ma\u001b[0m\u001b[0;34m)\u001b[0m\u001b[0;34m\u001b[0m\u001b[0;34m\u001b[0m\u001b[0m\n\u001b[0m\u001b[1;32m     16\u001b[0m \u001b[0md_b\u001b[0m \u001b[0;34m=\u001b[0m \u001b[0mcuda\u001b[0m\u001b[0;34m.\u001b[0m\u001b[0mto_device\u001b[0m\u001b[0;34m(\u001b[0m\u001b[0mb\u001b[0m\u001b[0;34m)\u001b[0m\u001b[0;34m\u001b[0m\u001b[0;34m\u001b[0m\u001b[0m\n\u001b[1;32m     17\u001b[0m \u001b[0md_out\u001b[0m \u001b[0;34m=\u001b[0m \u001b[0mcuda\u001b[0m\u001b[0;34m.\u001b[0m\u001b[0mto_device\u001b[0m\u001b[0;34m(\u001b[0m\u001b[0mout\u001b[0m\u001b[0;34m)\u001b[0m\u001b[0;34m\u001b[0m\u001b[0;34m\u001b[0m\u001b[0m\n",
            "\u001b[0;32m/usr/local/lib/python3.7/dist-packages/numba/cuda/cudadrv/devices.py\u001b[0m in \u001b[0;36m_require_cuda_context\u001b[0;34m(*args, **kws)\u001b[0m\n\u001b[1;32m    221\u001b[0m     \u001b[0;34m@\u001b[0m\u001b[0mfunctools\u001b[0m\u001b[0;34m.\u001b[0m\u001b[0mwraps\u001b[0m\u001b[0;34m(\u001b[0m\u001b[0mfn\u001b[0m\u001b[0;34m)\u001b[0m\u001b[0;34m\u001b[0m\u001b[0;34m\u001b[0m\u001b[0m\n\u001b[1;32m    222\u001b[0m     \u001b[0;32mdef\u001b[0m \u001b[0m_require_cuda_context\u001b[0m\u001b[0;34m(\u001b[0m\u001b[0;34m*\u001b[0m\u001b[0margs\u001b[0m\u001b[0;34m,\u001b[0m \u001b[0;34m**\u001b[0m\u001b[0mkws\u001b[0m\u001b[0;34m)\u001b[0m\u001b[0;34m:\u001b[0m\u001b[0;34m\u001b[0m\u001b[0;34m\u001b[0m\u001b[0m\n\u001b[0;32m--> 223\u001b[0;31m         \u001b[0;32mwith\u001b[0m \u001b[0m_runtime\u001b[0m\u001b[0;34m.\u001b[0m\u001b[0mensure_context\u001b[0m\u001b[0;34m(\u001b[0m\u001b[0;34m)\u001b[0m\u001b[0;34m:\u001b[0m\u001b[0;34m\u001b[0m\u001b[0;34m\u001b[0m\u001b[0m\n\u001b[0m\u001b[1;32m    224\u001b[0m             \u001b[0;32mreturn\u001b[0m \u001b[0mfn\u001b[0m\u001b[0;34m(\u001b[0m\u001b[0;34m*\u001b[0m\u001b[0margs\u001b[0m\u001b[0;34m,\u001b[0m \u001b[0;34m**\u001b[0m\u001b[0mkws\u001b[0m\u001b[0;34m)\u001b[0m\u001b[0;34m\u001b[0m\u001b[0;34m\u001b[0m\u001b[0m\n\u001b[1;32m    225\u001b[0m \u001b[0;34m\u001b[0m\u001b[0m\n",
            "\u001b[0;32m/usr/lib/python3.7/contextlib.py\u001b[0m in \u001b[0;36m__enter__\u001b[0;34m(self)\u001b[0m\n\u001b[1;32m    110\u001b[0m         \u001b[0;32mdel\u001b[0m \u001b[0mself\u001b[0m\u001b[0;34m.\u001b[0m\u001b[0margs\u001b[0m\u001b[0;34m,\u001b[0m \u001b[0mself\u001b[0m\u001b[0;34m.\u001b[0m\u001b[0mkwds\u001b[0m\u001b[0;34m,\u001b[0m \u001b[0mself\u001b[0m\u001b[0;34m.\u001b[0m\u001b[0mfunc\u001b[0m\u001b[0;34m\u001b[0m\u001b[0;34m\u001b[0m\u001b[0m\n\u001b[1;32m    111\u001b[0m         \u001b[0;32mtry\u001b[0m\u001b[0;34m:\u001b[0m\u001b[0;34m\u001b[0m\u001b[0;34m\u001b[0m\u001b[0m\n\u001b[0;32m--> 112\u001b[0;31m             \u001b[0;32mreturn\u001b[0m \u001b[0mnext\u001b[0m\u001b[0;34m(\u001b[0m\u001b[0mself\u001b[0m\u001b[0;34m.\u001b[0m\u001b[0mgen\u001b[0m\u001b[0;34m)\u001b[0m\u001b[0;34m\u001b[0m\u001b[0;34m\u001b[0m\u001b[0m\n\u001b[0m\u001b[1;32m    113\u001b[0m         \u001b[0;32mexcept\u001b[0m \u001b[0mStopIteration\u001b[0m\u001b[0;34m:\u001b[0m\u001b[0;34m\u001b[0m\u001b[0;34m\u001b[0m\u001b[0m\n\u001b[1;32m    114\u001b[0m             \u001b[0;32mraise\u001b[0m \u001b[0mRuntimeError\u001b[0m\u001b[0;34m(\u001b[0m\u001b[0;34m\"generator didn't yield\"\u001b[0m\u001b[0;34m)\u001b[0m \u001b[0;32mfrom\u001b[0m \u001b[0;32mNone\u001b[0m\u001b[0;34m\u001b[0m\u001b[0;34m\u001b[0m\u001b[0m\n",
            "\u001b[0;32m/usr/local/lib/python3.7/dist-packages/numba/cuda/cudadrv/devices.py\u001b[0m in \u001b[0;36mensure_context\u001b[0;34m(self)\u001b[0m\n\u001b[1;32m    119\u001b[0m         \u001b[0many\u001b[0m \u001b[0mtop\u001b[0m\u001b[0;34m-\u001b[0m\u001b[0mlevel\u001b[0m \u001b[0mNumba\u001b[0m \u001b[0mCUDA\u001b[0m \u001b[0mAPI\u001b[0m\u001b[0;34m.\u001b[0m\u001b[0;34m\u001b[0m\u001b[0;34m\u001b[0m\u001b[0m\n\u001b[1;32m    120\u001b[0m         \"\"\"\n\u001b[0;32m--> 121\u001b[0;31m         \u001b[0;32mwith\u001b[0m \u001b[0mdriver\u001b[0m\u001b[0;34m.\u001b[0m\u001b[0mget_active_context\u001b[0m\u001b[0;34m(\u001b[0m\u001b[0;34m)\u001b[0m\u001b[0;34m:\u001b[0m\u001b[0;34m\u001b[0m\u001b[0;34m\u001b[0m\u001b[0m\n\u001b[0m\u001b[1;32m    122\u001b[0m             \u001b[0moldctx\u001b[0m \u001b[0;34m=\u001b[0m \u001b[0mself\u001b[0m\u001b[0;34m.\u001b[0m\u001b[0m_get_attached_context\u001b[0m\u001b[0;34m(\u001b[0m\u001b[0;34m)\u001b[0m\u001b[0;34m\u001b[0m\u001b[0;34m\u001b[0m\u001b[0m\n\u001b[1;32m    123\u001b[0m             \u001b[0mnewctx\u001b[0m \u001b[0;34m=\u001b[0m \u001b[0mself\u001b[0m\u001b[0;34m.\u001b[0m\u001b[0mget_or_create_context\u001b[0m\u001b[0;34m(\u001b[0m\u001b[0;32mNone\u001b[0m\u001b[0;34m)\u001b[0m\u001b[0;34m\u001b[0m\u001b[0;34m\u001b[0m\u001b[0m\n",
            "\u001b[0;32m/usr/local/lib/python3.7/dist-packages/numba/cuda/cudadrv/driver.py\u001b[0m in \u001b[0;36m__enter__\u001b[0;34m(self)\u001b[0m\n\u001b[1;32m    393\u001b[0m         \u001b[0;32melse\u001b[0m\u001b[0;34m:\u001b[0m\u001b[0;34m\u001b[0m\u001b[0;34m\u001b[0m\u001b[0m\n\u001b[1;32m    394\u001b[0m             \u001b[0mhctx\u001b[0m \u001b[0;34m=\u001b[0m \u001b[0mdrvapi\u001b[0m\u001b[0;34m.\u001b[0m\u001b[0mcu_context\u001b[0m\u001b[0;34m(\u001b[0m\u001b[0;36m0\u001b[0m\u001b[0;34m)\u001b[0m\u001b[0;34m\u001b[0m\u001b[0;34m\u001b[0m\u001b[0m\n\u001b[0;32m--> 395\u001b[0;31m             \u001b[0mdriver\u001b[0m\u001b[0;34m.\u001b[0m\u001b[0mcuCtxGetCurrent\u001b[0m\u001b[0;34m(\u001b[0m\u001b[0mbyref\u001b[0m\u001b[0;34m(\u001b[0m\u001b[0mhctx\u001b[0m\u001b[0;34m)\u001b[0m\u001b[0;34m)\u001b[0m\u001b[0;34m\u001b[0m\u001b[0;34m\u001b[0m\u001b[0m\n\u001b[0m\u001b[1;32m    396\u001b[0m             \u001b[0mhctx\u001b[0m \u001b[0;34m=\u001b[0m \u001b[0mhctx\u001b[0m \u001b[0;32mif\u001b[0m \u001b[0mhctx\u001b[0m\u001b[0;34m.\u001b[0m\u001b[0mvalue\u001b[0m \u001b[0;32melse\u001b[0m \u001b[0;32mNone\u001b[0m\u001b[0;34m\u001b[0m\u001b[0;34m\u001b[0m\u001b[0m\n\u001b[1;32m    397\u001b[0m \u001b[0;34m\u001b[0m\u001b[0m\n",
            "\u001b[0;32m/usr/local/lib/python3.7/dist-packages/numba/cuda/cudadrv/driver.py\u001b[0m in \u001b[0;36m__getattr__\u001b[0;34m(self, fname)\u001b[0m\n\u001b[1;32m    280\u001b[0m         \u001b[0;31m# Initialize driver\u001b[0m\u001b[0;34m\u001b[0m\u001b[0;34m\u001b[0m\u001b[0;34m\u001b[0m\u001b[0m\n\u001b[1;32m    281\u001b[0m         \u001b[0;32mif\u001b[0m \u001b[0;32mnot\u001b[0m \u001b[0mself\u001b[0m\u001b[0;34m.\u001b[0m\u001b[0mis_initialized\u001b[0m\u001b[0;34m:\u001b[0m\u001b[0;34m\u001b[0m\u001b[0;34m\u001b[0m\u001b[0m\n\u001b[0;32m--> 282\u001b[0;31m             \u001b[0mself\u001b[0m\u001b[0;34m.\u001b[0m\u001b[0minitialize\u001b[0m\u001b[0;34m(\u001b[0m\u001b[0;34m)\u001b[0m\u001b[0;34m\u001b[0m\u001b[0;34m\u001b[0m\u001b[0m\n\u001b[0m\u001b[1;32m    283\u001b[0m \u001b[0;34m\u001b[0m\u001b[0m\n\u001b[1;32m    284\u001b[0m         \u001b[0;32mif\u001b[0m \u001b[0mself\u001b[0m\u001b[0;34m.\u001b[0m\u001b[0minitialization_error\u001b[0m \u001b[0;32mis\u001b[0m \u001b[0;32mnot\u001b[0m \u001b[0;32mNone\u001b[0m\u001b[0;34m:\u001b[0m\u001b[0;34m\u001b[0m\u001b[0;34m\u001b[0m\u001b[0m\n",
            "\u001b[0;32m/usr/local/lib/python3.7/dist-packages/numba/cuda/cudadrv/driver.py\u001b[0m in \u001b[0;36minitialize\u001b[0;34m(self)\u001b[0m\n\u001b[1;32m    240\u001b[0m         \u001b[0;32mexcept\u001b[0m \u001b[0mCudaAPIError\u001b[0m \u001b[0;32mas\u001b[0m \u001b[0me\u001b[0m\u001b[0;34m:\u001b[0m\u001b[0;34m\u001b[0m\u001b[0;34m\u001b[0m\u001b[0m\n\u001b[1;32m    241\u001b[0m             \u001b[0mself\u001b[0m\u001b[0;34m.\u001b[0m\u001b[0minitialization_error\u001b[0m \u001b[0;34m=\u001b[0m \u001b[0me\u001b[0m\u001b[0;34m\u001b[0m\u001b[0;34m\u001b[0m\u001b[0m\n\u001b[0;32m--> 242\u001b[0;31m             \u001b[0;32mraise\u001b[0m \u001b[0mCudaSupportError\u001b[0m\u001b[0;34m(\u001b[0m\u001b[0;34m\"Error at driver init: \\n%s:\"\u001b[0m \u001b[0;34m%\u001b[0m \u001b[0me\u001b[0m\u001b[0;34m)\u001b[0m\u001b[0;34m\u001b[0m\u001b[0;34m\u001b[0m\u001b[0m\n\u001b[0m\u001b[1;32m    243\u001b[0m         \u001b[0;32melse\u001b[0m\u001b[0;34m:\u001b[0m\u001b[0;34m\u001b[0m\u001b[0;34m\u001b[0m\u001b[0m\n\u001b[1;32m    244\u001b[0m             \u001b[0mself\u001b[0m\u001b[0;34m.\u001b[0m\u001b[0mpid\u001b[0m \u001b[0;34m=\u001b[0m \u001b[0m_getpid\u001b[0m\u001b[0;34m(\u001b[0m\u001b[0;34m)\u001b[0m\u001b[0;34m\u001b[0m\u001b[0;34m\u001b[0m\u001b[0m\n",
            "\u001b[0;31mCudaSupportError\u001b[0m: Error at driver init: \n[100] Call to cuInit results in CUDA_ERROR_NO_DEVICE:",
            "",
            "\u001b[0;31m---------------------------------------------------------------------------\u001b[0;32m\nNOTE: If your import is failing due to a missing package, you can\nmanually install dependencies using either !pip or !apt.\n\nTo view examples of installing some common dependencies, click the\n\"Open Examples\" button below.\n\u001b[0;31m---------------------------------------------------------------------------\u001b[0m\n"
          ],
          "errorDetails": {
            "actions": [
              {
                "action": "open_url",
                "actionText": "Open Examples",
                "url": "/notebooks/snippets/importing_libraries.ipynb"
              }
            ]
          }
        }
      ]
    },
    {
      "cell_type": "markdown",
      "metadata": {
        "id": "9eFw5ZJu0Mnu"
      },
      "source": [
        "### 2D Matrix Add"
      ]
    },
    {
      "cell_type": "markdown",
      "metadata": {
        "id": "l05Yos500Mnu"
      },
      "source": [
        "Your job is to complete the TODOs in `matrix_add` to correctly sum `a` and `b` into `out`. As a challenge to your understanding of coalesced access patterns, `matrix_add` will accept a `coalesced` boolean indicating whether the access patterns should be coalesced or not. Both modes (coalesced and uncoalesced) should produce correct results, however, you should observe significant speedups below when running with `coalesced` set to `True`.\n",
        "\n",
        "If you get stuck, feel free to check out [the solution](section3/solutions/matrix_add_solution.py)."
      ]
    },
    {
      "cell_type": "code",
      "metadata": {
        "collapsed": true,
        "id": "V4uR7ezk0Mnu"
      },
      "source": [
        "@cuda.jit\n",
        "def matrix_add(a, b, out, coalesced):\n",
        "    # TODO: set x and y to index correctly such that each thread\n",
        "    # accesses one element in the data.\n",
        "    x, y = pass\n",
        "    \n",
        "    if coalesced == True:\n",
        "        # TODO: write the sum of one element in `a` and `b` to `out`\n",
        "        # using a coalesced memory access pattern.\n",
        "    else:\n",
        "        # TODO: write the sum of one element in `a` and `b` to `out`\n",
        "        # using an uncoalesced memory access pattern."
      ],
      "execution_count": null,
      "outputs": []
    },
    {
      "cell_type": "markdown",
      "metadata": {
        "id": "mMzVBdpm0Mnv"
      },
      "source": [
        "### Check Performance"
      ]
    },
    {
      "cell_type": "markdown",
      "metadata": {
        "id": "0wEdq7G50Mnv"
      },
      "source": [
        "Run both cells below to launch `matrix_add` with both the coalesced and uncoalesced access patterns you wrote into it, and observe the performance difference. Additional cells have been provided to confirm the correctness of your kernel."
      ]
    },
    {
      "cell_type": "markdown",
      "metadata": {
        "id": "QMLqgTX30Mnv"
      },
      "source": [
        "**Coalesced**"
      ]
    },
    {
      "cell_type": "code",
      "metadata": {
        "collapsed": true,
        "id": "OpvsdKTy0Mnv"
      },
      "source": [
        "%timeit matrix_add[blocks, threads_per_block](d_a, d_b, d_out, True); cuda.synchronize"
      ],
      "execution_count": null,
      "outputs": []
    },
    {
      "cell_type": "code",
      "metadata": {
        "collapsed": true,
        "id": "Z0WO3j2F0Mnw"
      },
      "source": [
        "result = d_out.copy_to_host()\n",
        "truth = a+b"
      ],
      "execution_count": null,
      "outputs": []
    },
    {
      "cell_type": "code",
      "metadata": {
        "collapsed": true,
        "id": "smvzVIio0Mnw"
      },
      "source": [
        "np.array_equal(result, truth)"
      ],
      "execution_count": null,
      "outputs": []
    },
    {
      "cell_type": "markdown",
      "metadata": {
        "id": "JPRV7EZR0Mnw"
      },
      "source": [
        "**Uncoalesced**"
      ]
    },
    {
      "cell_type": "code",
      "metadata": {
        "collapsed": true,
        "id": "tsCvAmBI0Mnw"
      },
      "source": [
        "%timeit matrix_add[blocks, threads_per_block](d_a, d_b, d_out, False); cuda.synchronize"
      ],
      "execution_count": null,
      "outputs": []
    },
    {
      "cell_type": "code",
      "metadata": {
        "collapsed": true,
        "id": "GaEAgTi_0Mnx"
      },
      "source": [
        "result = d_out.copy_to_host()\n",
        "truth = a+b"
      ],
      "execution_count": null,
      "outputs": []
    },
    {
      "cell_type": "code",
      "metadata": {
        "collapsed": true,
        "id": "J9SAA83P0Mnx"
      },
      "source": [
        "np.array_equal(result, truth)"
      ],
      "execution_count": null,
      "outputs": []
    },
    {
      "cell_type": "markdown",
      "metadata": {
        "id": "GwXlyrZT0Mnx"
      },
      "source": [
        "## Shared Memory"
      ]
    },
    {
      "cell_type": "markdown",
      "metadata": {
        "id": "dse3CL4a0Mnx"
      },
      "source": [
        "So far we have been differentiating between host and device memory, as if device memory were a single kind of memory. But in fact, CUDA has an even more fine-grained [memory hierarchy](https://docs.nvidia.com/cuda/cuda-c-programming-guide/index.html#memory-hierarchy). The device memory we have been utilizing thus far is called **global memory** which is available to any thread or block on the device, can persist for the lifetime of the application, and is a relatively large memory space.\n",
        "\n",
        "We will now discuss how to utilize a region of on-chip device memory called **shared memory**. Shared memory is a programmer defined cache of limited size that [depends on the GPU](https://docs.nvidia.com/cuda/cuda-c-programming-guide/index.html#compute-capabilities) being used and is **shared** between all threads in a block. It is a scarce resource, cannot be accessed by threads outside of the block where it was allocated, and does not persist after a kernel finishes executing. Shared memory however has a much higher bandwidth than global memory and can be used to great effect in many kernels, especially to optimize performance.\n",
        "\n",
        "Here are a few common use cases for shared memory:\n",
        "\n",
        " * Caching memory read from global memory that will need to be read multiple times within a block.\n",
        " * Buffering output from threads so it can be coalesced before writing it back to global memory.\n",
        " * Staging data for scatter/gather operations within a block."
      ]
    },
    {
      "cell_type": "markdown",
      "metadata": {
        "id": "44wmMLl40Mnx"
      },
      "source": [
        "### Shared Memory Syntax"
      ]
    },
    {
      "cell_type": "markdown",
      "metadata": {
        "id": "-rvCoReK0Mnx"
      },
      "source": [
        "Numba provides [functions](https://numba.pydata.org/numba-doc/dev/cuda/memory.html#shared-memory-and-thread-synchronization) for allocating shared memory as well as for synchronizing between threads in a block, which is often necessary after parallel threads read from or write to shared memory.\n",
        "\n",
        "When declaring shared memory, you provide the shape of the shared array, as well as its type, using a [Numba type](https://numba.pydata.org/numba-doc/dev/reference/types.html#numba-types). **The shape of the array must be a constant value**, and therefore, you cannot use arguments passed into the function, or, provided variables like `numba.cuda.blockDim.x`, or the calculated values of `cuda.griddim`. Here is a convoluted example to demonstrate the syntax with comments pointing out the movement from host memory to global device memory, to shared memory, back to global device memory, and finally back to host memory:"
      ]
    },
    {
      "cell_type": "markdown",
      "metadata": {
        "id": "jhH49D360Mny"
      },
      "source": [
        "**Imports**"
      ]
    },
    {
      "cell_type": "markdown",
      "metadata": {
        "id": "BVFzMbDi0Mny"
      },
      "source": [
        "We will use `numba.types` to define the types of values in shared memory."
      ]
    },
    {
      "cell_type": "code",
      "metadata": {
        "collapsed": true,
        "id": "8CpCtKmq0Mny"
      },
      "source": [
        "import numpy as np\n",
        "from numba import types, cuda"
      ],
      "execution_count": null,
      "outputs": []
    },
    {
      "cell_type": "markdown",
      "metadata": {
        "id": "CjLTtBxd0Mny"
      },
      "source": [
        "**Swap Elements Using Shared Memory**"
      ]
    },
    {
      "cell_type": "markdown",
      "metadata": {
        "id": "VENFAVZZ0Mny"
      },
      "source": [
        "The following kernel takes an input vector, where each thread will first write one element of the vector to shared memory, and then, after syncing such that all elements have been written to shared memory, will write one element out of shared memory into the swapped output vector.\n",
        "\n",
        "Worth noting is that each thread will be writing a swapped value from shared memory that was written into shared memory by another thread."
      ]
    },
    {
      "cell_type": "code",
      "metadata": {
        "collapsed": true,
        "id": "xko3UNwG0Mny"
      },
      "source": [
        "@cuda.jit\n",
        "def swap_with_shared(vector, swapped):\n",
        "    # Allocate a 4 element vector containing int32 values in shared memory.\n",
        "    temp = cuda.shared.array(4, dtype=types.int32)\n",
        "    \n",
        "    idx = cuda.grid(1)\n",
        "    \n",
        "    # Move an element from global memory into shared memory\n",
        "    temp[idx] = vector[idx]\n",
        "    \n",
        "    # cuda.syncthreads will force all threads in the block to synchronize here, which is necessary because...\n",
        "    cuda.syncthreads()\n",
        "    #...the following operation is reading an element written to shared memory by another thread.\n",
        "    \n",
        "    # Move an element from shared memory back into global memory\n",
        "    swapped[idx] = temp[3 - cuda.threadIdx.x] # swap elements"
      ],
      "execution_count": null,
      "outputs": []
    },
    {
      "cell_type": "markdown",
      "metadata": {
        "id": "NQ-9_3ow0Mny"
      },
      "source": [
        "**Data Creation**"
      ]
    },
    {
      "cell_type": "code",
      "metadata": {
        "collapsed": true,
        "id": "7Mr2lOMY0Mnz"
      },
      "source": [
        "vector = np.arange(4).astype(np.int32)\n",
        "swapped = np.zeros_like(vector)\n",
        "\n",
        "# Move host memory to device (global) memory\n",
        "d_vector = cuda.to_device(vector)\n",
        "d_swapped = cuda.to_device(swapped)"
      ],
      "execution_count": null,
      "outputs": []
    },
    {
      "cell_type": "code",
      "metadata": {
        "collapsed": true,
        "scrolled": true,
        "id": "6aLXu-JS0Mnz"
      },
      "source": [
        "vector"
      ],
      "execution_count": null,
      "outputs": []
    },
    {
      "cell_type": "markdown",
      "metadata": {
        "id": "6DPD7p3S0Mnz"
      },
      "source": [
        "** Run Kernel**"
      ]
    },
    {
      "cell_type": "code",
      "metadata": {
        "collapsed": true,
        "id": "FxwDr5M70Mnz"
      },
      "source": [
        "swap_with_shared[1, 4](d_vector, d_swapped)"
      ],
      "execution_count": null,
      "outputs": []
    },
    {
      "cell_type": "markdown",
      "metadata": {
        "id": "St56M2zB0Mnz"
      },
      "source": [
        "**Check Results**"
      ]
    },
    {
      "cell_type": "code",
      "metadata": {
        "collapsed": true,
        "id": "dpICY2U80Mnz"
      },
      "source": [
        "# Move device (global) memory back to the host\n",
        "result = d_swapped.copy_to_host()\n",
        "result"
      ],
      "execution_count": null,
      "outputs": []
    },
    {
      "cell_type": "markdown",
      "metadata": {
        "id": "6S8GEvKz0Mnz"
      },
      "source": [
        "## Presentation: Shared Memory for Memory Coalescing"
      ]
    },
    {
      "cell_type": "markdown",
      "metadata": {
        "id": "nKdZZRjl0Mn0"
      },
      "source": [
        "Execute the following cell to load the slides, then click on \"Start Slide Show\" to make them full screen."
      ]
    },
    {
      "cell_type": "code",
      "metadata": {
        "collapsed": true,
        "id": "JNpWnV4L0Mn0"
      },
      "source": [
        "from IPython.display import IFrame\n",
        "IFrame('https://view.officeapps.live.com/op/view.aspx?src=https://developer.download.nvidia.com/training/courses/C-AC-02-V1/shared_coalescing.pptx', 800, 450)"
      ],
      "execution_count": null,
      "outputs": []
    },
    {
      "cell_type": "markdown",
      "metadata": {
        "id": "3gT6yvrB0Mn0"
      },
      "source": [
        "## Exercise: Used Shared Memory for Coalesced Reads and Writes With Matrix Transpose"
      ]
    },
    {
      "cell_type": "markdown",
      "metadata": {
        "id": "7_uoQDSk0Mn0"
      },
      "source": [
        "In this exercise you will implement what was just demonstrated in the presentation by writing a matrix transpose kernel which, using shared memory, makes coalesced reads and writes to the output matrix in global memory."
      ]
    },
    {
      "cell_type": "markdown",
      "metadata": {
        "id": "-5Nar1Os0Mn0"
      },
      "source": [
        "### Coalesced Reads, Uncoalesced Writes"
      ]
    },
    {
      "cell_type": "markdown",
      "metadata": {
        "id": "A_Zzf6sE0Mn0"
      },
      "source": [
        "As reference, and for performance comparison, here is a naive matrix transpose kernel that makes coalesced reads from input, but uncoalesced writes to output."
      ]
    },
    {
      "cell_type": "markdown",
      "metadata": {
        "id": "qOZH4ME10Mn0"
      },
      "source": [
        "**Imports**"
      ]
    },
    {
      "cell_type": "code",
      "metadata": {
        "collapsed": true,
        "id": "GxUeJafe0Mn1"
      },
      "source": [
        "from numba import cuda\n",
        "import numpy as np"
      ],
      "execution_count": null,
      "outputs": []
    },
    {
      "cell_type": "markdown",
      "metadata": {
        "id": "v2qqSTzg0Mn1"
      },
      "source": [
        "**Data Creation**"
      ]
    },
    {
      "cell_type": "markdown",
      "metadata": {
        "id": "I6I8hVQ-0Mn1"
      },
      "source": [
        "Here we create a 4096x4096 input matrix `a` as well as a 4096x4096 output matrix `transposed`, and copy them to the device.\n",
        "\n",
        "We also define a 2-dimensional grid with 2-dimensional blocks to be used below. Note that we have created a grid with a total number of threads equal to the number of elments in the input matrix."
      ]
    },
    {
      "cell_type": "code",
      "metadata": {
        "collapsed": true,
        "id": "A4dvUTyq0Mn1"
      },
      "source": [
        "n = 4096*4096 # 16M\n",
        "\n",
        "# 2D blocks\n",
        "threads_per_block = (32, 32)\n",
        "#2D grid\n",
        "blocks = (128, 128)\n",
        "\n",
        "# 4096x4096 input and output matrices\n",
        "a = np.arange(n).reshape((4096,4096)).astype(np.float32)\n",
        "transposed = np.zeros_like(a).astype(np.float32)\n",
        "\n",
        "d_a = cuda.to_device(a)\n",
        "d_transposed = cuda.to_device(transposed)"
      ],
      "execution_count": null,
      "outputs": []
    },
    {
      "cell_type": "markdown",
      "metadata": {
        "id": "wfcahheb0Mn1"
      },
      "source": [
        "**Naive Matrix Transpose Kernel**"
      ]
    },
    {
      "cell_type": "markdown",
      "metadata": {
        "id": "imgIJyzh0Mn1"
      },
      "source": [
        "This kernel correctly transposes `a`, writing the transposition to `transposed`. It makes reads from `a` in a coalesced fashion, however, its writes to `transposed` are uncoalesced."
      ]
    },
    {
      "cell_type": "code",
      "metadata": {
        "collapsed": true,
        "id": "T7USDX080Mn1"
      },
      "source": [
        "@cuda.jit\n",
        "def transpose(a, transposed):\n",
        "    x, y = cuda.grid(2)\n",
        "\n",
        "    transposed[x][y] = a[y][x]"
      ],
      "execution_count": null,
      "outputs": []
    },
    {
      "cell_type": "markdown",
      "metadata": {
        "id": "EE6C-mU50Mn2"
      },
      "source": [
        "**Check Performance**"
      ]
    },
    {
      "cell_type": "code",
      "metadata": {
        "collapsed": true,
        "id": "bN28INj20Mn2"
      },
      "source": [
        "%timeit transpose[blocks, threads_per_block](d_a, d_transposed); cuda.synchronize()"
      ],
      "execution_count": null,
      "outputs": []
    },
    {
      "cell_type": "markdown",
      "metadata": {
        "id": "tyye0Iye0Mn2"
      },
      "source": [
        "**Check Correctness**"
      ]
    },
    {
      "cell_type": "code",
      "metadata": {
        "collapsed": true,
        "id": "gMhV_Yar0Mn2"
      },
      "source": [
        "result = d_transposed.copy_to_host()\n",
        "expected = a.T"
      ],
      "execution_count": null,
      "outputs": []
    },
    {
      "cell_type": "code",
      "metadata": {
        "collapsed": true,
        "id": "pw_cFWke0Mn2"
      },
      "source": [
        "np.array_equal(result, expected)"
      ],
      "execution_count": null,
      "outputs": []
    },
    {
      "cell_type": "markdown",
      "metadata": {
        "id": "1CxXi3jr0Mn2"
      },
      "source": [
        "### Refactor for Coalesced Reads and Writes"
      ]
    },
    {
      "cell_type": "markdown",
      "metadata": {
        "id": "aVQtAOPX0Mn2"
      },
      "source": [
        "Your job will be to refactor the `transpose` kernel to use shared memory and make both reads to and writes from global memory in a coalesced fashion."
      ]
    },
    {
      "cell_type": "markdown",
      "metadata": {
        "id": "GTiJpAky0Mn2"
      },
      "source": [
        "**Imports**"
      ]
    },
    {
      "cell_type": "code",
      "metadata": {
        "collapsed": true,
        "id": "w0SlRnJA0Mn3"
      },
      "source": [
        "import numpy as np\n",
        "from numba import cuda, types as numba_types"
      ],
      "execution_count": null,
      "outputs": []
    },
    {
      "cell_type": "markdown",
      "metadata": {
        "id": "ovwo4JMi0Mn3"
      },
      "source": [
        "**Data Creation**"
      ]
    },
    {
      "cell_type": "code",
      "metadata": {
        "collapsed": true,
        "id": "WkHRO5Ko0Mn3"
      },
      "source": [
        "n = 4096*4096 # 16M\n",
        "\n",
        "# 2D blocks\n",
        "threads_per_block = (32, 32)\n",
        "#2D grid\n",
        "blocks = (128, 128)\n",
        "\n",
        "# 4096x4096 input and output matrices\n",
        "a = np.arange(n).reshape((4096,4096)).astype(np.float32)\n",
        "transposed = np.zeros_like(a).astype(np.float32)\n",
        "\n",
        "d_a = cuda.to_device(a)\n",
        "d_transposed = cuda.to_device(transposed)"
      ],
      "execution_count": null,
      "outputs": []
    },
    {
      "cell_type": "markdown",
      "metadata": {
        "id": "AxjIWxd70Mn3"
      },
      "source": [
        "**Write a Transpose Kernel that Uses Shared Memory**"
      ]
    },
    {
      "cell_type": "markdown",
      "metadata": {
        "id": "JSvTbmTZ0Mn3"
      },
      "source": [
        "Complete the TODOs inside the `tile_transpose` kernel definition.\n",
        "\n",
        "If you get stuck, feel free to check out [the solution](section3/solutions/tile_transpose_solution.py)."
      ]
    },
    {
      "cell_type": "code",
      "metadata": {
        "collapsed": true,
        "id": "ts-KOdVT0Mn3"
      },
      "source": [
        "@cuda.jit\n",
        "def tile_transpose(a, transposed):\n",
        "    # `tile_transpose` assumes it is launched with a 32x32 block dimension,\n",
        "    # and that `a` is a multiple of these dimensions.\n",
        "    \n",
        "    # 1) Create 32x32 shared memory array.\n",
        "    \n",
        "    # TODO: Your code here.\n",
        "\n",
        "    # Compute offsets into global input array. Recall for coalesced access we want to map threadIdx.x increments to\n",
        "    # the fastest changing index in the data, i.e. the column in our array.\n",
        "    # Note: `a_col` and `a_row` are already correct.\n",
        "    a_col = cuda.blockIdx.x * cuda.blockDim.x + cuda.threadIdx.x\n",
        "    a_row = cuda.blockIdx.y * cuda.blockDim.y + cuda.threadIdx.y\n",
        "    \n",
        "    # 2) Make coalesced read from global memory (using grid indices)\n",
        "    # into shared memory array (using thread indices).\n",
        "    \n",
        "    # TODO: Your code here.\n",
        "\n",
        "    # 3) Wait for all threads in the block to finish updating shared memory.\n",
        "    \n",
        "    # TODO: Your code here.\n",
        "    \n",
        "    # 4) Calculate transposed location for the shared memory array tile\n",
        "    # to be written back to global memory. Note that blockIdx.y*blockDim.y \n",
        "    # and blockIdx.x* blockDim.x are swapped (because we want to write to the\n",
        "    # transpose locations), but we want to keep access coalesced, so match up the\n",
        "    # threadIdx.x to the fastest changing index, i.e. the column./\n",
        "    # Note: `t_col` and `t_row` are already correct.\n",
        "    t_col = cuda.blockIdx.y * cuda.blockDim.y + cuda.threadIdx.x\n",
        "    t_row = cuda.blockIdx.x * cuda.blockDim.x + cuda.threadIdx.y\n",
        "\n",
        "    # 5) Write from shared memory (using thread indices)\n",
        "    # back to global memory (using grid indices)\n",
        "    # transposing each element within the shared memory array.\n",
        "    \n",
        "    # TODO: Your code here."
      ],
      "execution_count": null,
      "outputs": []
    },
    {
      "cell_type": "markdown",
      "metadata": {
        "id": "JlIfrROr0Mn4"
      },
      "source": [
        "**Check Performance**"
      ]
    },
    {
      "cell_type": "markdown",
      "metadata": {
        "id": "f8CNWMlg0Mn4"
      },
      "source": [
        "Check the performance of your refactored transpose kernel. You should see a speedup compared to the baseline transpose performance above."
      ]
    },
    {
      "cell_type": "code",
      "metadata": {
        "collapsed": true,
        "id": "I-dA5i0X0Mn4"
      },
      "source": [
        "%timeit tile_transpose[blocks, threads_per_block](d_a, d_transposed); cuda.synchronize()"
      ],
      "execution_count": null,
      "outputs": []
    },
    {
      "cell_type": "markdown",
      "metadata": {
        "id": "aqv47IKI0Mn4"
      },
      "source": [
        "**Check Correctness**"
      ]
    },
    {
      "cell_type": "code",
      "metadata": {
        "collapsed": true,
        "id": "1GsR6Y_u0Mn4"
      },
      "source": [
        "result = d_transposed.copy_to_host()\n",
        "expected = a.T"
      ],
      "execution_count": null,
      "outputs": []
    },
    {
      "cell_type": "code",
      "metadata": {
        "collapsed": true,
        "scrolled": true,
        "id": "VnbEeyFH0Mn4"
      },
      "source": [
        "np.array_equal(result, expected)"
      ],
      "execution_count": null,
      "outputs": []
    },
    {
      "cell_type": "markdown",
      "metadata": {
        "id": "InCDnwgs0Mn4"
      },
      "source": [
        "### Why Such a Small Improvement?"
      ]
    },
    {
      "cell_type": "markdown",
      "metadata": {
        "id": "hlfwNhul0Mn4"
      },
      "source": [
        "While this is a significant speedup for only a few lines of code, but you might think that the performance improvement is not as stark as you expected based on earlier performance improvements to use coalesced access patterns. There are 2 main reasons for this:\n",
        "\n",
        "1. The naive transpose kernel was making coalesced reads, so, your refactored version only optimized half of the global memory access throughout the execution of the kernel.\n",
        "2. Your code as written suffers from something called shared memory bank conflicts, a topic to which we will now turn our attention."
      ]
    },
    {
      "cell_type": "markdown",
      "metadata": {
        "id": "42jEkFzX0Mn5"
      },
      "source": [
        "## Presentation: Memory Bank Conflicts"
      ]
    },
    {
      "cell_type": "markdown",
      "metadata": {
        "id": "b3bV4pX90Mn5"
      },
      "source": [
        "Execute the following cell to load the slides, then click on \"Start Slide Show\" to make them full screen."
      ]
    },
    {
      "cell_type": "code",
      "metadata": {
        "collapsed": true,
        "id": "rA-Fd-8Z0Mn5"
      },
      "source": [
        "from IPython.display import IFrame\n",
        "IFrame('https://view.officeapps.live.com/op/view.aspx?src=https://developer.download.nvidia.com/training/courses/C-AC-02-V1/bank_conflicts.pptx', 800, 450)"
      ],
      "execution_count": null,
      "outputs": []
    },
    {
      "cell_type": "markdown",
      "metadata": {
        "id": "YJL6U1Mf0Mn5"
      },
      "source": [
        "## Exercice: Resolve Memory Bank Conflicts"
      ]
    },
    {
      "cell_type": "markdown",
      "metadata": {
        "id": "be8-quUE0Mn5"
      },
      "source": [
        "As a final exercise, you will refactor the transpose kernel utilizing shared memory to be shared memory bank conflict free."
      ]
    },
    {
      "cell_type": "markdown",
      "metadata": {
        "id": "MH45i_aH0Mn6"
      },
      "source": [
        "### Imports"
      ]
    },
    {
      "cell_type": "code",
      "metadata": {
        "collapsed": true,
        "id": "vFnPfMgt0Mn6"
      },
      "source": [
        "import numpy as np\n",
        "from numba import cuda, types as numba_types"
      ],
      "execution_count": null,
      "outputs": []
    },
    {
      "cell_type": "markdown",
      "metadata": {
        "id": "I1x8xjYU0Mn6"
      },
      "source": [
        "### Data Creation"
      ]
    },
    {
      "cell_type": "code",
      "metadata": {
        "collapsed": true,
        "id": "j2HJNvJt0Mn6"
      },
      "source": [
        "n = 4096*4096 # 16M\n",
        "threads_per_block = (32, 32)\n",
        "blocks = (128, 128)\n",
        "\n",
        "a = np.arange(n).reshape((4096,4096)).astype(np.float32)\n",
        "transposed = np.zeros_like(a).astype(np.float32)\n",
        "\n",
        "d_a = cuda.to_device(a)\n",
        "d_transposed = cuda.to_device(transposed)"
      ],
      "execution_count": null,
      "outputs": []
    },
    {
      "cell_type": "markdown",
      "metadata": {
        "id": "YAz79gP_0Mn6"
      },
      "source": [
        "### Make the Kernel Bank Conflict Free"
      ]
    },
    {
      "cell_type": "markdown",
      "metadata": {
        "id": "jB2hn9kY0Mn6"
      },
      "source": [
        "The `tile_transpose_conflict_free` kernel is a working matrix transpose kernel which utilizes shared memory so that both reads from and writes to global memory are coalesced. Your job is to refactor the kernel so that it does not suffer from memory bank conflicts.\n",
        "\n",
        "**Note:**  a solution will not be provided."
      ]
    },
    {
      "cell_type": "code",
      "metadata": {
        "collapsed": true,
        "id": "cz-EYhxZ0Mn6"
      },
      "source": [
        "@cuda.jit\n",
        "def tile_transpose_conflict_free(a, transposed):\n",
        "    # `tile_transpose` assumes it is launched with a 32x32 block dimension,\n",
        "    # and that `a` is a multiple of these dimensions.\n",
        "    \n",
        "    # 1) Create 32x32 shared memory array.\n",
        "    tile = cuda.shared.array((32, 32), numba_types.int32)\n",
        "\n",
        "    # Compute offsets into global input array.\n",
        "    x = cuda.blockIdx.x * cuda.blockDim.x + cuda.threadIdx.x\n",
        "    y = cuda.blockIdx.y * cuda.blockDim.y + cuda.threadIdx.y\n",
        "    \n",
        "    # 2) Make coalesced read from global memory into shared memory array.\n",
        "    # Note the use of local thread indices for the shared memory write,\n",
        "    # and global offsets for global memory read.\n",
        "    tile[cuda.threadIdx.y, cuda.threadIdx.x] = a[y, x]\n",
        "\n",
        "    # 3) Wait for all threads in the block to finish updating shared memory.\n",
        "    cuda.syncthreads()\n",
        "    \n",
        "    # 4) Calculate transposed location for the shared memory array tile\n",
        "    # to be written back to global memory.\n",
        "    t_x = cuda.blockIdx.y * cuda.blockDim.y + cuda.threadIdx.x\n",
        "    t_y = cuda.blockIdx.x * cuda.blockDim.x + cuda.threadIdx.y\n",
        "\n",
        "    # 5) Write back to global memory,\n",
        "    # transposing each element within the shared memory array.\n",
        "    transposed[t_y, t_x] = tile[cuda.threadIdx.x, cuda.threadIdx.y]"
      ],
      "execution_count": null,
      "outputs": []
    },
    {
      "cell_type": "markdown",
      "metadata": {
        "id": "Vxu31CAo0Mn7"
      },
      "source": [
        "### Check Performance"
      ]
    },
    {
      "cell_type": "markdown",
      "metadata": {
        "id": "57KiZFZW0Mn7"
      },
      "source": [
        "Assuming you have correctly resolved the bank conflicts, this kernel should run significantly faster than both the naive transpose kernel, and, the shared memory (with bank conflicts) transpose kernel. In order to pass the assessment, your kernel will need to run on average in less than 840 µs.\n",
        "\n",
        "The first value printed by running the following cell will give you the average run time of your kernel."
      ]
    },
    {
      "cell_type": "code",
      "metadata": {
        "collapsed": true,
        "scrolled": true,
        "id": "9HI3hGoS0Mn7"
      },
      "source": [
        "%timeit tile_transpose_conflict_free[blocks, threads_per_block](d_a, d_transposed); cuda.synchronize()"
      ],
      "execution_count": null,
      "outputs": []
    },
    {
      "cell_type": "markdown",
      "metadata": {
        "id": "QAVpVc2u0Mn9"
      },
      "source": [
        "## Summary"
      ]
    },
    {
      "cell_type": "markdown",
      "metadata": {
        "id": "7jYcOx6n0Mn-"
      },
      "source": [
        "Now that you have completed this session you are able to:\n",
        "\n",
        "* Write CUDA kernels that benefit from coalesced memory access patterns.\n",
        "* Work with multi-dimensional grids and thread blocks.\n",
        "* Use shared memory to coordinate threads within a block.\n",
        "* Use shared memory to facilitate coalesced memory access patterns.\n",
        "* Resolve shared memory bank conflicts."
      ]
    }
  ]
}