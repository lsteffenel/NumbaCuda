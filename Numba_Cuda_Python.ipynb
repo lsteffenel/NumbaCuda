{
  "nbformat": 4,
  "nbformat_minor": 0,
  "metadata": {
    "colab": {
      "name": "Numba_Cuda_Python.ipynb",
      "provenance": []
    },
    "kernelspec": {
      "name": "python3",
      "display_name": "Python 3"
    },
    "language_info": {
      "name": "python"
    }
  },
  "cells": [
    {
      "cell_type": "markdown",
      "metadata": {
        "id": "4wt8X-IWrrID"
      },
      "source": [
        "Dans ce TP vous devez télécharger le fichier suivant et le décompresser. "
      ]
    },
    {
      "cell_type": "code",
      "metadata": {
        "id": "IHv2GoE1rkyD"
      },
      "source": [
        "!wget http://urca.lsteffenel.fr/DLI_Python.zip -O DLI_Python.zip\n",
        "!unzip DLI_Python.zip"
      ],
      "execution_count": null,
      "outputs": []
    },
    {
      "cell_type": "markdown",
      "metadata": {
        "id": "UQHLIU-ssO2S"
      },
      "source": [
        "Maintenant, allez dans chaque répertoire \"SectionX\" et lancez les fichiers ipython"
      ]
    },
    {
      "cell_type": "code",
      "metadata": {
        "id": "qwVqAhUksDlz"
      },
      "source": [
        ""
      ],
      "execution_count": null,
      "outputs": []
    }
  ]
}